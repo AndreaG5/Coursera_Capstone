{
    "cells": [
        {
            "cell_type": "markdown",
            "metadata": {
                "collapsed": true
            },
            "source": "# Final Assignment - Applied data science capstone\n\n### Background and business plan\n\nI explore the potentiality of segmenting city's neighbours, but in the training part I explored big multicultural overseas cities like New York or Toronto. In the final assignment I want to explore and segment the city of Bari (Italy), which is a city nearby my hometown, not so famous among all italian cities but it's a very particular center mostly famous for its food tradition. I am simulating to be an investor who want to open a new restaurant that could represent a unique possibility to have international meals, e.g. mexican or thai food (which are not spread in southern italy) and in order to do that I want to know what will be the best neighbours to invest on.\nI am starting from scratch and I doubt that there will be lots of informations to be used from foursquare, but I will do my best to offer the best options I can."
        },
        {
            "cell_type": "markdown",
            "metadata": {},
            "source": "### Data collection\n\nIn order to pursue the work I decided to use neighbours data available at https://en.wikipedia.org/wiki/Bari#Quarters."
        },
        {
            "cell_type": "code",
            "execution_count": 1,
            "metadata": {},
            "outputs": [
                {
                    "name": "stdout",
                    "output_type": "stream",
                    "text": "Requirement already satisfied: folium in /opt/conda/envs/Python-3.7-main/lib/python3.7/site-packages (0.11.0)\nRequirement already satisfied: numpy in /opt/conda/envs/Python-3.7-main/lib/python3.7/site-packages (from folium) (1.18.5)\nRequirement already satisfied: requests in /opt/conda/envs/Python-3.7-main/lib/python3.7/site-packages (from folium) (2.24.0)\nRequirement already satisfied: jinja2>=2.9 in /opt/conda/envs/Python-3.7-main/lib/python3.7/site-packages (from folium) (2.11.2)\nRequirement already satisfied: branca>=0.3.0 in /opt/conda/envs/Python-3.7-main/lib/python3.7/site-packages (from folium) (0.4.2)\nRequirement already satisfied: certifi>=2017.4.17 in /opt/conda/envs/Python-3.7-main/lib/python3.7/site-packages (from requests->folium) (2020.12.5)\nRequirement already satisfied: chardet<4,>=3.0.2 in /opt/conda/envs/Python-3.7-main/lib/python3.7/site-packages (from requests->folium) (3.0.4)\nRequirement already satisfied: idna<3,>=2.5 in /opt/conda/envs/Python-3.7-main/lib/python3.7/site-packages (from requests->folium) (2.9)\nRequirement already satisfied: urllib3!=1.25.0,!=1.25.1,<1.26,>=1.21.1 in /opt/conda/envs/Python-3.7-main/lib/python3.7/site-packages (from requests->folium) (1.25.9)\nRequirement already satisfied: MarkupSafe>=0.23 in /opt/conda/envs/Python-3.7-main/lib/python3.7/site-packages (from jinja2>=2.9->folium) (1.1.1)\nLibraries imported.\n"
                }
            ],
            "source": "import numpy as np # library to handle data in a vectorized manner\n\nimport pandas as pd # library for data analsysis\npd.set_option('display.max_columns', None)\npd.set_option('display.max_rows', None)\n\nimport json # library to handle JSON files\n\n#!conda install -c conda-forge geopy --yes # uncomment this line if you haven't completed the Foursquare API lab\nfrom geopy.geocoders import Nominatim # convert an address into latitude and longitude values\n\nimport requests # library to handle requests\nfrom pandas.io.json import json_normalize # tranform JSON file into a pandas dataframe\n\n# import k-means from clustering stage\nfrom sklearn.cluster import KMeans\n\n!pip install folium\nimport folium\n\nprint('Libraries imported.')"
        },
        {
            "cell_type": "code",
            "execution_count": 2,
            "metadata": {},
            "outputs": [
                {
                    "data": {
                        "text/html": "<div>\n<style scoped>\n    .dataframe tbody tr th:only-of-type {\n        vertical-align: middle;\n    }\n\n    .dataframe tbody tr th {\n        vertical-align: top;\n    }\n\n    .dataframe thead th {\n        text-align: right;\n    }\n</style>\n<table border=\"1\" class=\"dataframe\">\n  <thead>\n    <tr style=\"text-align: right;\">\n      <th></th>\n      <th>Municipi</th>\n      <th>Quarters</th>\n      <th>Former Circoscrizioni</th>\n    </tr>\n  </thead>\n  <tbody>\n    <tr>\n      <th>0</th>\n      <td>1</td>\n      <td>Murat, San Nicola, Libert\u00e0, Madonnella, Japigi...</td>\n      <td>V, VII, IX</td>\n    </tr>\n    <tr>\n      <th>1</th>\n      <td>2</td>\n      <td>Poggiofranco, Picone, Carrassi, San Pasquale, ...</td>\n      <td>III, VI</td>\n    </tr>\n    <tr>\n      <th>2</th>\n      <td>3</td>\n      <td>San Paolo, Stanic, Marconi, San Girolamo, Fesc...</td>\n      <td>II, VIII</td>\n    </tr>\n    <tr>\n      <th>3</th>\n      <td>4</td>\n      <td>Carbonara, Ceglie, Loseto</td>\n      <td>IV</td>\n    </tr>\n    <tr>\n      <th>4</th>\n      <td>5</td>\n      <td>Palese, Santo Spirito, Catino, San Pio</td>\n      <td>I</td>\n    </tr>\n  </tbody>\n</table>\n</div>",
                        "text/plain": "   Municipi                                           Quarters  \\\n0         1  Murat, San Nicola, Libert\u00e0, Madonnella, Japigi...   \n1         2  Poggiofranco, Picone, Carrassi, San Pasquale, ...   \n2         3  San Paolo, Stanic, Marconi, San Girolamo, Fesc...   \n3         4                          Carbonara, Ceglie, Loseto   \n4         5             Palese, Santo Spirito, Catino, San Pio   \n\n  Former Circoscrizioni  \n0            V, VII, IX  \n1               III, VI  \n2              II, VIII  \n3                    IV  \n4                     I  "
                    },
                    "execution_count": 2,
                    "metadata": {},
                    "output_type": "execute_result"
                }
            ],
            "source": "df = pd.read_html('https://en.wikipedia.org/wiki/Bari#Quarters')[2]\ndf.head()"
        },
        {
            "cell_type": "code",
            "execution_count": 3,
            "metadata": {},
            "outputs": [
                {
                    "data": {
                        "text/html": "<div>\n<style scoped>\n    .dataframe tbody tr th:only-of-type {\n        vertical-align: middle;\n    }\n\n    .dataframe tbody tr th {\n        vertical-align: top;\n    }\n\n    .dataframe thead th {\n        text-align: right;\n    }\n</style>\n<table border=\"1\" class=\"dataframe\">\n  <thead>\n    <tr style=\"text-align: right;\">\n      <th></th>\n      <th>index</th>\n      <th>Quarters</th>\n    </tr>\n  </thead>\n  <tbody>\n    <tr>\n      <th>0</th>\n      <td>0</td>\n      <td>Murat</td>\n    </tr>\n    <tr>\n      <th>1</th>\n      <td>0</td>\n      <td>San Nicola</td>\n    </tr>\n    <tr>\n      <th>2</th>\n      <td>0</td>\n      <td>Libert\u00e0</td>\n    </tr>\n    <tr>\n      <th>3</th>\n      <td>0</td>\n      <td>Madonnella</td>\n    </tr>\n    <tr>\n      <th>4</th>\n      <td>0</td>\n      <td>Japigia</td>\n    </tr>\n    <tr>\n      <th>5</th>\n      <td>0</td>\n      <td>Torre a mare</td>\n    </tr>\n    <tr>\n      <th>6</th>\n      <td>1</td>\n      <td>Poggiofranco</td>\n    </tr>\n    <tr>\n      <th>7</th>\n      <td>1</td>\n      <td>Picone</td>\n    </tr>\n    <tr>\n      <th>8</th>\n      <td>1</td>\n      <td>Carrassi</td>\n    </tr>\n    <tr>\n      <th>9</th>\n      <td>1</td>\n      <td>San Pasquale</td>\n    </tr>\n    <tr>\n      <th>10</th>\n      <td>1</td>\n      <td>Mungivacca</td>\n    </tr>\n    <tr>\n      <th>11</th>\n      <td>2</td>\n      <td>San Paolo</td>\n    </tr>\n    <tr>\n      <th>12</th>\n      <td>2</td>\n      <td>Stanic</td>\n    </tr>\n    <tr>\n      <th>13</th>\n      <td>2</td>\n      <td>Marconi</td>\n    </tr>\n    <tr>\n      <th>14</th>\n      <td>2</td>\n      <td>San Girolamo</td>\n    </tr>\n    <tr>\n      <th>15</th>\n      <td>2</td>\n      <td>Fesca</td>\n    </tr>\n    <tr>\n      <th>16</th>\n      <td>2</td>\n      <td>Villaggio del Lavoratore)</td>\n    </tr>\n    <tr>\n      <th>17</th>\n      <td>3</td>\n      <td>Carbonara</td>\n    </tr>\n    <tr>\n      <th>18</th>\n      <td>3</td>\n      <td>Ceglie</td>\n    </tr>\n    <tr>\n      <th>19</th>\n      <td>3</td>\n      <td>Loseto</td>\n    </tr>\n    <tr>\n      <th>20</th>\n      <td>4</td>\n      <td>Palese</td>\n    </tr>\n    <tr>\n      <th>21</th>\n      <td>4</td>\n      <td>Santo Spirito</td>\n    </tr>\n    <tr>\n      <th>22</th>\n      <td>4</td>\n      <td>Catino</td>\n    </tr>\n    <tr>\n      <th>23</th>\n      <td>4</td>\n      <td>San Pio</td>\n    </tr>\n  </tbody>\n</table>\n</div>",
                        "text/plain": "    index                    Quarters\n0       0                       Murat\n1       0                  San Nicola\n2       0                     Libert\u00e0\n3       0                  Madonnella\n4       0                     Japigia\n5       0                Torre a mare\n6       1                Poggiofranco\n7       1                      Picone\n8       1                    Carrassi\n9       1                San Pasquale\n10      1                  Mungivacca\n11      2                   San Paolo\n12      2                      Stanic\n13      2                     Marconi\n14      2                San Girolamo\n15      2                       Fesca\n16      2   Villaggio del Lavoratore)\n17      3                   Carbonara\n18      3                      Ceglie\n19      3                      Loseto\n20      4                      Palese\n21      4               Santo Spirito\n22      4                      Catino\n23      4                     San Pio"
                    },
                    "execution_count": 3,
                    "metadata": {},
                    "output_type": "execute_result"
                }
            ],
            "source": "#Split each quarter (previously gropued by \"Municipi\")\ndf1 = df['Quarters'].str.split(',').explode()\ndf1.reset_index()"
        },
        {
            "cell_type": "code",
            "execution_count": 4,
            "metadata": {},
            "outputs": [
                {
                    "data": {
                        "text/html": "<div>\n<style scoped>\n    .dataframe tbody tr th:only-of-type {\n        vertical-align: middle;\n    }\n\n    .dataframe tbody tr th {\n        vertical-align: top;\n    }\n\n    .dataframe thead th {\n        text-align: right;\n    }\n</style>\n<table border=\"1\" class=\"dataframe\">\n  <thead>\n    <tr style=\"text-align: right;\">\n      <th></th>\n      <th>index</th>\n      <th>Quarters</th>\n    </tr>\n  </thead>\n  <tbody>\n    <tr>\n      <th>0</th>\n      <td>0</td>\n      <td>Murat</td>\n    </tr>\n    <tr>\n      <th>1</th>\n      <td>0</td>\n      <td>San Nicola</td>\n    </tr>\n    <tr>\n      <th>2</th>\n      <td>0</td>\n      <td>Libert\u00e0</td>\n    </tr>\n    <tr>\n      <th>3</th>\n      <td>0</td>\n      <td>Madonnella</td>\n    </tr>\n    <tr>\n      <th>4</th>\n      <td>0</td>\n      <td>Japigia</td>\n    </tr>\n    <tr>\n      <th>5</th>\n      <td>0</td>\n      <td>Torre a mare</td>\n    </tr>\n    <tr>\n      <th>6</th>\n      <td>1</td>\n      <td>Poggiofranco</td>\n    </tr>\n    <tr>\n      <th>7</th>\n      <td>1</td>\n      <td>Picone</td>\n    </tr>\n    <tr>\n      <th>8</th>\n      <td>1</td>\n      <td>Carrassi</td>\n    </tr>\n    <tr>\n      <th>9</th>\n      <td>1</td>\n      <td>San Pasquale</td>\n    </tr>\n    <tr>\n      <th>10</th>\n      <td>1</td>\n      <td>Mungivacca</td>\n    </tr>\n    <tr>\n      <th>11</th>\n      <td>2</td>\n      <td>San Paolo</td>\n    </tr>\n    <tr>\n      <th>12</th>\n      <td>2</td>\n      <td>Stanic</td>\n    </tr>\n    <tr>\n      <th>13</th>\n      <td>2</td>\n      <td>Marconi</td>\n    </tr>\n    <tr>\n      <th>14</th>\n      <td>2</td>\n      <td>San Girolamo</td>\n    </tr>\n    <tr>\n      <th>15</th>\n      <td>2</td>\n      <td>Fesca</td>\n    </tr>\n    <tr>\n      <th>16</th>\n      <td>2</td>\n      <td>Villaggio del Lavoratore</td>\n    </tr>\n    <tr>\n      <th>17</th>\n      <td>3</td>\n      <td>Carbonara</td>\n    </tr>\n    <tr>\n      <th>18</th>\n      <td>3</td>\n      <td>Ceglie</td>\n    </tr>\n    <tr>\n      <th>19</th>\n      <td>3</td>\n      <td>Loseto</td>\n    </tr>\n    <tr>\n      <th>20</th>\n      <td>4</td>\n      <td>Palese</td>\n    </tr>\n    <tr>\n      <th>21</th>\n      <td>4</td>\n      <td>Santo Spirito</td>\n    </tr>\n    <tr>\n      <th>22</th>\n      <td>4</td>\n      <td>Catino</td>\n    </tr>\n    <tr>\n      <th>23</th>\n      <td>4</td>\n      <td>San Pio</td>\n    </tr>\n  </tbody>\n</table>\n</div>",
                        "text/plain": "    index                   Quarters\n0       0                      Murat\n1       0                 San Nicola\n2       0                    Libert\u00e0\n3       0                 Madonnella\n4       0                    Japigia\n5       0               Torre a mare\n6       1               Poggiofranco\n7       1                     Picone\n8       1                   Carrassi\n9       1               San Pasquale\n10      1                 Mungivacca\n11      2                  San Paolo\n12      2                     Stanic\n13      2                    Marconi\n14      2               San Girolamo\n15      2                      Fesca\n16      2   Villaggio del Lavoratore\n17      3                  Carbonara\n18      3                     Ceglie\n19      3                     Loseto\n20      4                     Palese\n21      4              Santo Spirito\n22      4                     Catino\n23      4                    San Pio"
                    },
                    "execution_count": 4,
                    "metadata": {},
                    "output_type": "execute_result"
                }
            ],
            "source": "#Remove last character ( ')' ) in row 16 \ndf1 = df1.to_frame()\ndf1['Quarters'].iloc[16] = df1['Quarters'].iloc[16][: -1]\ndf1.reset_index()"
        },
        {
            "cell_type": "code",
            "execution_count": 5,
            "metadata": {},
            "outputs": [],
            "source": "#Remove whitespace at the beginning of each quarter\ndf1['Quarters'] = df1['Quarters'].apply(lambda row: row.lstrip())"
        },
        {
            "cell_type": "code",
            "execution_count": 6,
            "metadata": {},
            "outputs": [],
            "source": "nc = ['Bari,'] * df1.shape[0]"
        },
        {
            "cell_type": "code",
            "execution_count": 7,
            "metadata": {},
            "outputs": [],
            "source": "df1['city'] = nc"
        },
        {
            "cell_type": "code",
            "execution_count": 9,
            "metadata": {},
            "outputs": [
                {
                    "data": {
                        "text/html": "<div>\n<style scoped>\n    .dataframe tbody tr th:only-of-type {\n        vertical-align: middle;\n    }\n\n    .dataframe tbody tr th {\n        vertical-align: top;\n    }\n\n    .dataframe thead th {\n        text-align: right;\n    }\n</style>\n<table border=\"1\" class=\"dataframe\">\n  <thead>\n    <tr style=\"text-align: right;\">\n      <th></th>\n      <th>Quarters</th>\n      <th>city</th>\n      <th>location</th>\n    </tr>\n  </thead>\n  <tbody>\n    <tr>\n      <th>0</th>\n      <td>Murat</td>\n      <td>Bari,</td>\n      <td>Bari,Murat</td>\n    </tr>\n    <tr>\n      <th>0</th>\n      <td>San Nicola</td>\n      <td>Bari,</td>\n      <td>Bari,San Nicola</td>\n    </tr>\n    <tr>\n      <th>0</th>\n      <td>Libert\u00e0</td>\n      <td>Bari,</td>\n      <td>Bari,Libert\u00e0</td>\n    </tr>\n    <tr>\n      <th>0</th>\n      <td>Madonnella</td>\n      <td>Bari,</td>\n      <td>Bari,Madonnella</td>\n    </tr>\n    <tr>\n      <th>0</th>\n      <td>Japigia</td>\n      <td>Bari,</td>\n      <td>Bari,Japigia</td>\n    </tr>\n    <tr>\n      <th>0</th>\n      <td>Torre a mare</td>\n      <td>Bari,</td>\n      <td>Bari,Torre a mare</td>\n    </tr>\n    <tr>\n      <th>1</th>\n      <td>Poggiofranco</td>\n      <td>Bari,</td>\n      <td>Bari,Poggiofranco</td>\n    </tr>\n    <tr>\n      <th>1</th>\n      <td>Picone</td>\n      <td>Bari,</td>\n      <td>Bari,Picone</td>\n    </tr>\n    <tr>\n      <th>1</th>\n      <td>Carrassi</td>\n      <td>Bari,</td>\n      <td>Bari,Carrassi</td>\n    </tr>\n    <tr>\n      <th>1</th>\n      <td>San Pasquale</td>\n      <td>Bari,</td>\n      <td>Bari,San Pasquale</td>\n    </tr>\n    <tr>\n      <th>1</th>\n      <td>Mungivacca</td>\n      <td>Bari,</td>\n      <td>Bari,Mungivacca</td>\n    </tr>\n    <tr>\n      <th>2</th>\n      <td>San Paolo</td>\n      <td>Bari,</td>\n      <td>Bari,San Paolo</td>\n    </tr>\n    <tr>\n      <th>2</th>\n      <td>Stanic</td>\n      <td>Bari,</td>\n      <td>Bari,Stanic</td>\n    </tr>\n    <tr>\n      <th>2</th>\n      <td>Marconi</td>\n      <td>Bari,</td>\n      <td>Bari,Marconi</td>\n    </tr>\n    <tr>\n      <th>2</th>\n      <td>San Girolamo</td>\n      <td>Bari,</td>\n      <td>Bari,San Girolamo</td>\n    </tr>\n    <tr>\n      <th>2</th>\n      <td>Fesca</td>\n      <td>Bari,</td>\n      <td>Bari,Fesca</td>\n    </tr>\n    <tr>\n      <th>2</th>\n      <td>Villaggio del Lavoratore</td>\n      <td>Bari,</td>\n      <td>Bari,Villaggio del Lavoratore</td>\n    </tr>\n    <tr>\n      <th>3</th>\n      <td>Carbonara</td>\n      <td>Bari,</td>\n      <td>Bari,Carbonara</td>\n    </tr>\n    <tr>\n      <th>3</th>\n      <td>Ceglie</td>\n      <td>Bari,</td>\n      <td>Bari,Ceglie</td>\n    </tr>\n    <tr>\n      <th>3</th>\n      <td>Loseto</td>\n      <td>Bari,</td>\n      <td>Bari,Loseto</td>\n    </tr>\n    <tr>\n      <th>4</th>\n      <td>Palese</td>\n      <td>Bari,</td>\n      <td>Bari,Palese</td>\n    </tr>\n    <tr>\n      <th>4</th>\n      <td>Santo Spirito</td>\n      <td>Bari,</td>\n      <td>Bari,Santo Spirito</td>\n    </tr>\n    <tr>\n      <th>4</th>\n      <td>Catino</td>\n      <td>Bari,</td>\n      <td>Bari,Catino</td>\n    </tr>\n    <tr>\n      <th>4</th>\n      <td>San Pio</td>\n      <td>Bari,</td>\n      <td>Bari,San Pio</td>\n    </tr>\n  </tbody>\n</table>\n</div>",
                        "text/plain": "                   Quarters   city                       location\n0                     Murat  Bari,                     Bari,Murat\n0                San Nicola  Bari,                Bari,San Nicola\n0                   Libert\u00e0  Bari,                   Bari,Libert\u00e0\n0                Madonnella  Bari,                Bari,Madonnella\n0                   Japigia  Bari,                   Bari,Japigia\n0              Torre a mare  Bari,              Bari,Torre a mare\n1              Poggiofranco  Bari,              Bari,Poggiofranco\n1                    Picone  Bari,                    Bari,Picone\n1                  Carrassi  Bari,                  Bari,Carrassi\n1              San Pasquale  Bari,              Bari,San Pasquale\n1                Mungivacca  Bari,                Bari,Mungivacca\n2                 San Paolo  Bari,                 Bari,San Paolo\n2                    Stanic  Bari,                    Bari,Stanic\n2                   Marconi  Bari,                   Bari,Marconi\n2              San Girolamo  Bari,              Bari,San Girolamo\n2                     Fesca  Bari,                     Bari,Fesca\n2  Villaggio del Lavoratore  Bari,  Bari,Villaggio del Lavoratore\n3                 Carbonara  Bari,                 Bari,Carbonara\n3                    Ceglie  Bari,                    Bari,Ceglie\n3                    Loseto  Bari,                    Bari,Loseto\n4                    Palese  Bari,                    Bari,Palese\n4             Santo Spirito  Bari,             Bari,Santo Spirito\n4                    Catino  Bari,                    Bari,Catino\n4                   San Pio  Bari,                   Bari,San Pio"
                    },
                    "execution_count": 9,
                    "metadata": {},
                    "output_type": "execute_result"
                }
            ],
            "source": "df1['location'] = df1['city'] + df1['Quarters']\ndf1"
        },
        {
            "cell_type": "code",
            "execution_count": 10,
            "metadata": {},
            "outputs": [
                {
                    "data": {
                        "text/html": "<div>\n<style scoped>\n    .dataframe tbody tr th:only-of-type {\n        vertical-align: middle;\n    }\n\n    .dataframe tbody tr th {\n        vertical-align: top;\n    }\n\n    .dataframe thead th {\n        text-align: right;\n    }\n</style>\n<table border=\"1\" class=\"dataframe\">\n  <thead>\n    <tr style=\"text-align: right;\">\n      <th></th>\n      <th>Quarters</th>\n      <th>city</th>\n      <th>location</th>\n    </tr>\n  </thead>\n  <tbody>\n    <tr>\n      <th>0</th>\n      <td>Murat</td>\n      <td>Bari</td>\n      <td>Bari,Murat</td>\n    </tr>\n    <tr>\n      <th>0</th>\n      <td>San Nicola</td>\n      <td>Bari</td>\n      <td>Bari,San Nicola</td>\n    </tr>\n    <tr>\n      <th>0</th>\n      <td>Libert\u00e0</td>\n      <td>Bari</td>\n      <td>Bari,Libert\u00e0</td>\n    </tr>\n    <tr>\n      <th>0</th>\n      <td>Madonnella</td>\n      <td>Bari</td>\n      <td>Bari,Madonnella</td>\n    </tr>\n    <tr>\n      <th>0</th>\n      <td>Japigia</td>\n      <td>Bari</td>\n      <td>Bari,Japigia</td>\n    </tr>\n  </tbody>\n</table>\n</div>",
                        "text/plain": "     Quarters  city         location\n0       Murat  Bari       Bari,Murat\n0  San Nicola  Bari  Bari,San Nicola\n0     Libert\u00e0  Bari     Bari,Libert\u00e0\n0  Madonnella  Bari  Bari,Madonnella\n0     Japigia  Bari     Bari,Japigia"
                    },
                    "execution_count": 10,
                    "metadata": {},
                    "output_type": "execute_result"
                }
            ],
            "source": "df1['city'] = ['Bari'] * df1.shape[0]\ndf1.head()"
        },
        {
            "cell_type": "code",
            "execution_count": 11,
            "metadata": {},
            "outputs": [
                {
                    "data": {
                        "text/html": "<div>\n<style scoped>\n    .dataframe tbody tr th:only-of-type {\n        vertical-align: middle;\n    }\n\n    .dataframe tbody tr th {\n        vertical-align: top;\n    }\n\n    .dataframe thead th {\n        text-align: right;\n    }\n</style>\n<table border=\"1\" class=\"dataframe\">\n  <thead>\n    <tr style=\"text-align: right;\">\n      <th></th>\n      <th>Quarters</th>\n      <th>city</th>\n      <th>location</th>\n      <th>Latitude</th>\n      <th>Longitude</th>\n    </tr>\n  </thead>\n  <tbody>\n    <tr>\n      <th>0</th>\n      <td>Murat</td>\n      <td>Bari</td>\n      <td>Bari,Murat</td>\n      <td>41.123301</td>\n      <td>16.870601</td>\n    </tr>\n    <tr>\n      <th>0</th>\n      <td>San Nicola</td>\n      <td>Bari</td>\n      <td>Bari,San Nicola</td>\n      <td>41.128054</td>\n      <td>16.869299</td>\n    </tr>\n    <tr>\n      <th>0</th>\n      <td>Libert\u00e0</td>\n      <td>Bari</td>\n      <td>Bari,Libert\u00e0</td>\n      <td>41.123126</td>\n      <td>16.856248</td>\n    </tr>\n    <tr>\n      <th>0</th>\n      <td>Madonnella</td>\n      <td>Bari</td>\n      <td>Bari,Madonnella</td>\n      <td>41.120257</td>\n      <td>16.884253</td>\n    </tr>\n    <tr>\n      <th>0</th>\n      <td>Japigia</td>\n      <td>Bari</td>\n      <td>Bari,Japigia</td>\n      <td>41.113869</td>\n      <td>16.896594</td>\n    </tr>\n    <tr>\n      <th>0</th>\n      <td>Torre a mare</td>\n      <td>Bari</td>\n      <td>Bari,Torre a mare</td>\n      <td>41.087498</td>\n      <td>17.000413</td>\n    </tr>\n    <tr>\n      <th>1</th>\n      <td>Poggiofranco</td>\n      <td>Bari</td>\n      <td>Bari,Poggiofranco</td>\n      <td>41.090048</td>\n      <td>16.857068</td>\n    </tr>\n    <tr>\n      <th>1</th>\n      <td>Picone</td>\n      <td>Bari</td>\n      <td>Bari,Picone</td>\n      <td>41.070221</td>\n      <td>16.860594</td>\n    </tr>\n    <tr>\n      <th>1</th>\n      <td>Carrassi</td>\n      <td>Bari</td>\n      <td>Bari,Carrassi</td>\n      <td>41.089591</td>\n      <td>16.873487</td>\n    </tr>\n    <tr>\n      <th>1</th>\n      <td>San Pasquale</td>\n      <td>Bari</td>\n      <td>Bari,San Pasquale</td>\n      <td>41.113456</td>\n      <td>16.876145</td>\n    </tr>\n    <tr>\n      <th>1</th>\n      <td>Mungivacca</td>\n      <td>Bari</td>\n      <td>Bari,Mungivacca</td>\n      <td>41.090225</td>\n      <td>16.900127</td>\n    </tr>\n    <tr>\n      <th>2</th>\n      <td>San Paolo</td>\n      <td>Bari</td>\n      <td>Bari,San Paolo</td>\n      <td>41.124844</td>\n      <td>16.797937</td>\n    </tr>\n    <tr>\n      <th>2</th>\n      <td>Stanic</td>\n      <td>Bari</td>\n      <td>Bari,Stanic</td>\n      <td>41.106619</td>\n      <td>16.819975</td>\n    </tr>\n    <tr>\n      <th>2</th>\n      <td>Marconi</td>\n      <td>Bari</td>\n      <td>Bari,Marconi</td>\n      <td>41.117166</td>\n      <td>16.887340</td>\n    </tr>\n    <tr>\n      <th>2</th>\n      <td>San Girolamo</td>\n      <td>Bari</td>\n      <td>Bari,San Girolamo</td>\n      <td>45.460810</td>\n      <td>10.581811</td>\n    </tr>\n    <tr>\n      <th>2</th>\n      <td>Fesca</td>\n      <td>Bari</td>\n      <td>Bari,Fesca</td>\n      <td>41.129860</td>\n      <td>16.823745</td>\n    </tr>\n    <tr>\n      <th>2</th>\n      <td>Villaggio del Lavoratore</td>\n      <td>Bari</td>\n      <td>Bari,Villaggio del Lavoratore</td>\n      <td>41.104161</td>\n      <td>16.822761</td>\n    </tr>\n    <tr>\n      <th>3</th>\n      <td>Carbonara</td>\n      <td>Bari</td>\n      <td>Bari,Carbonara</td>\n      <td>41.070513</td>\n      <td>16.871417</td>\n    </tr>\n    <tr>\n      <th>3</th>\n      <td>Ceglie</td>\n      <td>Bari</td>\n      <td>Bari,Ceglie</td>\n      <td>41.064382</td>\n      <td>16.865932</td>\n    </tr>\n    <tr>\n      <th>3</th>\n      <td>Loseto</td>\n      <td>Bari</td>\n      <td>Bari,Loseto</td>\n      <td>41.040323</td>\n      <td>16.847490</td>\n    </tr>\n    <tr>\n      <th>4</th>\n      <td>Palese</td>\n      <td>Bari</td>\n      <td>Bari,Palese</td>\n      <td>41.150721</td>\n      <td>16.765771</td>\n    </tr>\n    <tr>\n      <th>4</th>\n      <td>Santo Spirito</td>\n      <td>Bari</td>\n      <td>Bari,Santo Spirito</td>\n      <td>42.659067</td>\n      <td>13.703715</td>\n    </tr>\n    <tr>\n      <th>4</th>\n      <td>Catino</td>\n      <td>Bari</td>\n      <td>Bari,Catino</td>\n      <td>41.163358</td>\n      <td>16.746813</td>\n    </tr>\n    <tr>\n      <th>4</th>\n      <td>San Pio</td>\n      <td>Bari</td>\n      <td>Bari,San Pio</td>\n      <td>41.198691</td>\n      <td>16.598491</td>\n    </tr>\n  </tbody>\n</table>\n</div>",
                        "text/plain": "                   Quarters  city                       location   Latitude  \\\n0                     Murat  Bari                     Bari,Murat  41.123301   \n0                San Nicola  Bari                Bari,San Nicola  41.128054   \n0                   Libert\u00e0  Bari                   Bari,Libert\u00e0  41.123126   \n0                Madonnella  Bari                Bari,Madonnella  41.120257   \n0                   Japigia  Bari                   Bari,Japigia  41.113869   \n0              Torre a mare  Bari              Bari,Torre a mare  41.087498   \n1              Poggiofranco  Bari              Bari,Poggiofranco  41.090048   \n1                    Picone  Bari                    Bari,Picone  41.070221   \n1                  Carrassi  Bari                  Bari,Carrassi  41.089591   \n1              San Pasquale  Bari              Bari,San Pasquale  41.113456   \n1                Mungivacca  Bari                Bari,Mungivacca  41.090225   \n2                 San Paolo  Bari                 Bari,San Paolo  41.124844   \n2                    Stanic  Bari                    Bari,Stanic  41.106619   \n2                   Marconi  Bari                   Bari,Marconi  41.117166   \n2              San Girolamo  Bari              Bari,San Girolamo  45.460810   \n2                     Fesca  Bari                     Bari,Fesca  41.129860   \n2  Villaggio del Lavoratore  Bari  Bari,Villaggio del Lavoratore  41.104161   \n3                 Carbonara  Bari                 Bari,Carbonara  41.070513   \n3                    Ceglie  Bari                    Bari,Ceglie  41.064382   \n3                    Loseto  Bari                    Bari,Loseto  41.040323   \n4                    Palese  Bari                    Bari,Palese  41.150721   \n4             Santo Spirito  Bari             Bari,Santo Spirito  42.659067   \n4                    Catino  Bari                    Bari,Catino  41.163358   \n4                   San Pio  Bari                   Bari,San Pio  41.198691   \n\n   Longitude  \n0  16.870601  \n0  16.869299  \n0  16.856248  \n0  16.884253  \n0  16.896594  \n0  17.000413  \n1  16.857068  \n1  16.860594  \n1  16.873487  \n1  16.876145  \n1  16.900127  \n2  16.797937  \n2  16.819975  \n2  16.887340  \n2  10.581811  \n2  16.823745  \n2  16.822761  \n3  16.871417  \n3  16.865932  \n3  16.847490  \n4  16.765771  \n4  13.703715  \n4  16.746813  \n4  16.598491  "
                    },
                    "execution_count": 11,
                    "metadata": {},
                    "output_type": "execute_result"
                }
            ],
            "source": "#Add coordinates for each quarter\nfrom geopy.geocoders import Nominatim # module to convert an address into latitude and longitude values\ngeolocator = Nominatim(user_agent=\"Bari_quar\")\n\ndf1['Dist_Coord']= df1['location'].apply(geolocator.geocode).apply(lambda x: (x.latitude, x.longitude))\ndf1[['Latitude', 'Longitude']] = df1['Dist_Coord'].apply(pd.Series)\n\ndf1.drop(['Dist_Coord'], axis=1, inplace=True)\ndf1"
        },
        {
            "cell_type": "code",
            "execution_count": 12,
            "metadata": {},
            "outputs": [
                {
                    "name": "stdout",
                    "output_type": "stream",
                    "text": "The geograpical coordinate of Bari are 41.1257843, 16.8620293.\n"
                }
            ],
            "source": "#Coordinate of the city of Bari\naddress = 'Bari, Italy'\n\ngeolocator = Nominatim(user_agent=\"Bari_quar\")\nlocation = geolocator.geocode(address)\nlatitude = location.latitude\nlongitude = location.longitude\nprint('The geograpical coordinate of Bari are {}, {}.'.format(latitude, longitude))"
        }
    ],
    "metadata": {
        "kernelspec": {
            "display_name": "Python 3.7",
            "language": "python",
            "name": "python3"
        },
        "language_info": {
            "codemirror_mode": {
                "name": "ipython",
                "version": 3
            },
            "file_extension": ".py",
            "mimetype": "text/x-python",
            "name": "python",
            "nbconvert_exporter": "python",
            "pygments_lexer": "ipython3",
            "version": "3.7.9"
        }
    },
    "nbformat": 4,
    "nbformat_minor": 1
}